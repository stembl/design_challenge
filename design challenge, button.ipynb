{
 "cells": [
  {
   "cell_type": "markdown",
   "metadata": {},
   "source": [
    "# Product Design Challenge\n",
    "\n",
    "Tools for the review of a battery compartment button."
   ]
  },
  {
   "cell_type": "code",
   "execution_count": 1,
   "metadata": {},
   "outputs": [],
   "source": [
    "import scipy as sp\n",
    "from matplotlib import pyplot as plt"
   ]
  },
  {
   "cell_type": "code",
   "execution_count": 2,
   "metadata": {},
   "outputs": [],
   "source": [
    "def button_spring(theta=45, F_0=3.3, F1=1.16, F_3=7, mu=0.05, printout=True):\n",
    "\n",
    "    '''\n",
    "    ## Given\n",
    "    theta = 45                  # [degrees] Ramp Angle\n",
    "    F_0 = 3.3                   # [N] Input force\n",
    "    F_1 = F0/2 * sp.cos(theta)  # [N] Force at ramp\n",
    "    F_3 = 4*F1/2                # [N] Force acting on latches from cassette\n",
    "    mu = 0.05                   # Coefficient of friction\n",
    "    \n",
    "    Returns the maximum spring force F_2 requried to return the latch\n",
    "    and button to there starting positions.\n",
    "    '''\n",
    "\n",
    "    theta = theta*sp.pi/180     # [rad]\n",
    "    f_k = F1*mu\n",
    "\n",
    "    ## Sum of the forces in y axis\n",
    "    # Solve for R\n",
    "\n",
    "    F_1y = F1*sp.cos(theta)\n",
    "    f_ky = f_k*sp.sin(theta)\n",
    "\n",
    "    R = F_3 - f_ky - F_1y\n",
    "\n",
    "    ## Sum of the forces in the x axis\n",
    "    # Solve for F_2\n",
    "\n",
    "    f_kR = R * mu\n",
    "    f_k3 = F_3 * mu\n",
    "\n",
    "    F_1x = F1*sp.sin(theta)\n",
    "    f_kx = f_k*sp.cos(theta)\n",
    "\n",
    "    F_2 = -f_k3 - f_kR - f_kx + F_1x\n",
    "    \n",
    "    if(printout):\n",
    "        print('F_2 = %.3f N\\n' %F_2)\n",
    "        print('Forces in the X axis:')\n",
    "        print('f_kR = %.2f N' %f_kR)\n",
    "        print('f_k3 = %.2f N' %f_k3)\n",
    "        print('f_kx = %.2f N' %f_kx)\n",
    "        print('F_1x = %.2f N\\n' %F_1x)\n",
    "\n",
    "        print('Forces in the Y axis:')\n",
    "        print('f_ky = %.2f N' %f_ky)\n",
    "        print('F_1y = %.2f N' %F_1y)\n",
    "        print('F_3 = %.2f N' %F_3)\n",
    "        print('R = %.2f N' %R)\n",
    "    \n",
    "    return(F_2)"
   ]
  },
  {
   "cell_type": "code",
   "execution_count": 3,
   "metadata": {},
   "outputs": [
    {
     "name": "stdout",
     "output_type": "stream",
     "text": [
      "F_2 = 0.528 N\n",
      "\n",
      "Forces in the X axis:\n",
      "f_kR = 0.01 N\n",
      "f_k3 = 0.04 N\n",
      "f_kx = 0.03 N\n",
      "F_1x = 0.61 N\n",
      "\n",
      "Forces in the Y axis:\n",
      "f_ky = 0.03 N\n",
      "F_1y = 0.61 N\n",
      "F_3 = 0.87 N\n",
      "R = 0.22 N\n"
     ]
    }
   ],
   "source": [
    "theta = 45\n",
    "F_0 = 3.3\n",
    "F_1 = F_0/2 * sp.cos(theta)\n",
    "F_3 = 2*F_1/2\n",
    "mu = 0.05\n",
    "\n",
    "F_2 = button_spring(theta, F_0, F_1, F_3, mu, printout=True)"
   ]
  },
  {
   "cell_type": "code",
   "execution_count": 4,
   "metadata": {},
   "outputs": [
    {
     "name": "stdout",
     "output_type": "stream",
     "text": [
      "Spring Thickness : 0.0352 mm\n",
      "Spring Stiffness : 0.3 N/mm\n"
     ]
    }
   ],
   "source": [
    "#Spring Deflectio\n",
    "# Assumes the spring acts similar to a cantilever beam\n",
    "# Solve for the thickness of the spring given the concept shape\n",
    "\n",
    "delta = 2.0         # [mm] deflection of the spring\n",
    "L = 3.5             # [mm] effective length of the spring\n",
    "E = 2.07e5          # [MPa] Young's Modulus of spring steel\n",
    "b = 5.0             # [mm] depth of the spring shape\n",
    "\n",
    "h = (((F_2 * L**3)/(3 * E * delta)) * (12/b))**(1/3)\n",
    "\n",
    "k = F_2 / delta\n",
    "\n",
    "print('Spring Thickness : %.4f mm' %h)\n",
    "print('Spring Stiffness : %.1f N/mm' %k)"
   ]
  },
  {
   "cell_type": "code",
   "execution_count": 5,
   "metadata": {},
   "outputs": [],
   "source": [
    "theta_i = sp.linspace(1,89,200)\n",
    "F2_theta = sp.zeros(len(theta_i))\n",
    "for i in range(len(theta_i)):\n",
    "    F2_theta[i-1] = button_spring(theta_i[i-1], F_0, F_1, F_3, mu, printout=False)\n",
    "\n",
    "theta_j = sp.linspace(10,70,200)\n",
    "ramp_height = sp.zeros(len(theta_j))\n",
    "for j in range(len(theta_j)):\n",
    "    ramp_height[j-1] = sp.tan(theta_j[j-1]*sp.pi/180)*2"
   ]
  },
  {
   "cell_type": "code",
   "execution_count": 6,
   "metadata": {},
   "outputs": [
    {
     "data": {
      "image/png": "[encoded data removed]",
      "text/plain": [
       "<Figure size 432x288 with 2 Axes>"
      ]
     },
     "metadata": {},
     "output_type": "display_data"
    }
   ],
   "source": [
    "fig, ax1 = plt.subplots()\n",
    "ax1.plot(theta_i, F2_theta, 'b-')\n",
    "ax1.set_xlabel('Ramp Angle, Theta')\n",
    "# Make the y-axis label, ticks and tick labels match the line color.\n",
    "ax1.set_ylabel('Spring Force', color='b')\n",
    "ax1.tick_params('y', colors='b')\n",
    "\n",
    "ax2 = ax1.twinx()\n",
    "ax2.plot(theta_j, ramp_height, 'r.')\n",
    "ax2.set_ylabel('Button Height', color='r')\n",
    "ax2.tick_params('y', colors='r')\n",
    "\n",
    "plt.show()"
   ]
  },
  {
   "cell_type": "code",
   "execution_count": null,
   "metadata": {},
   "outputs": [],
   "source": []
  },
  {
   "cell_type": "code",
   "execution_count": null,
   "metadata": {},
   "outputs": [],
   "source": []
  }
 ],
 "metadata": {
  "kernelspec": {
   "display_name": "Python 3",
   "language": "python",
   "name": "python3"
  },
  "language_info": {
   "codemirror_mode": {
    "name": "ipython",
    "version": 3
   },
   "file_extension": ".py",
   "mimetype": "text/x-python",
   "name": "python",
   "nbconvert_exporter": "python",
   "pygments_lexer": "ipython3",
   "version": "3.6.2"
  }
 },
 "nbformat": 4,
 "nbformat_minor": 2
}
